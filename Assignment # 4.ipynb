{
 "cells": [
  {
   "cell_type": "markdown",
   "metadata": {},
   "source": [
    "Q1. Make a calculator using Python with addition , subtraction ,\n",
    "multiplication ,division and power."
   ]
  },
  {
   "cell_type": "code",
   "execution_count": 2,
   "metadata": {},
   "outputs": [
    {
     "name": "stdout",
     "output_type": "stream",
     "text": [
      "Enter first number: 2\n",
      "Enter second number: 3\n",
      "Enter any one operator from these: '+', '-', 'x' , '/', 'power' power\n",
      "8\n"
     ]
    }
   ],
   "source": [
    "num_1 = input(\"Enter first number: \")\n",
    "num_2 = input(\"Enter second number: \")\n",
    "op = input(\"Enter any one operator from these: '+', '-', 'x' , '/', 'power' \")\n",
    "if op == \"+\" :\n",
    "    num_1 = int(num_1)\n",
    "    num_2 = int(num_2)\n",
    "    sum = num_1 + num_2\n",
    "    sum = str(sum)\n",
    "    print(sum)\n",
    "elif op == \"-\":\n",
    "    num_1 = int(num_1)\n",
    "    num_2 = int(num_2)\n",
    "    sub = num_1 - num_2\n",
    "    sub = str(sub)\n",
    "    print(sub)\n",
    "elif op == \"x\":\n",
    "    num_1 = int(num_1)\n",
    "    num_2 = int(num_2)\n",
    "    mult = num_1 * num_2\n",
    "    mult = str(mult)\n",
    "    print(mult)\n",
    "elif op == \"/\":\n",
    "    num_1 = int(num_1)\n",
    "    num_2 = int(num_2)\n",
    "    div = num_1 / num_2\n",
    "    div = str(div)\n",
    "    print(div)\n",
    "elif op == \"power\":\n",
    "    num_1 = int(num_1)\n",
    "    num_2 = int(num_2)\n",
    "    power = num_1 ** num_2\n",
    "    power = str(power)\n",
    "    print(power)"
   ]
  },
  {
   "cell_type": "markdown",
   "metadata": {},
   "source": [
    "Q2. Write a program to check if there is any numeric value in list using for\n",
    "loop."
   ]
  },
  {
   "cell_type": "code",
   "execution_count": 3,
   "metadata": {},
   "outputs": [
    {
     "name": "stdout",
     "output_type": "stream",
     "text": [
      "2\n"
     ]
    }
   ],
   "source": [
    "list = ['a', 2, 'b', 'c', 'd']\n",
    "for num_value in list: \n",
    "    if type(num_value) == int :\n",
    "        print(num_value)"
   ]
  },
  {
   "cell_type": "markdown",
   "metadata": {},
   "source": [
    "Q3. Write a Python script to add a key to a dictionary."
   ]
  },
  {
   "cell_type": "code",
   "execution_count": 4,
   "metadata": {},
   "outputs": [
    {
     "name": "stdout",
     "output_type": "stream",
     "text": [
      "{'a': 5, 'b': 6, 'c': 8}\n"
     ]
    }
   ],
   "source": [
    "numbers = {\n",
    "      'a': 5,\n",
    "      'b': 6\n",
    "  }\n",
    "numbers['c']= 8\n",
    "print(numbers)"
   ]
  },
  {
   "cell_type": "markdown",
   "metadata": {},
   "source": [
    "Q4. Write a Python program to sum all the numeric items in a dictionary."
   ]
  },
  {
   "cell_type": "code",
   "execution_count": 20,
   "metadata": {},
   "outputs": [
    {
     "name": "stdout",
     "output_type": "stream",
     "text": [
      "Sum : 30\n"
     ]
    }
   ],
   "source": [
    "def Sum(dict):\n",
    "    sum = 0\n",
    "    for i in dict.values():\n",
    "             sum = sum + i\n",
    "            \n",
    "    return sum\n",
    " \n",
    "\n",
    "dict = {'a': 5, 'b':10, 'c':15}\n",
    "print(\"Sum :\", Sum(dict))"
   ]
  },
  {
   "cell_type": "markdown",
   "metadata": {},
   "source": [
    "Q5. Write a program to identify duplicate values from list."
   ]
  },
  {
   "cell_type": "code",
   "execution_count": 21,
   "metadata": {},
   "outputs": [
    {
     "name": "stdout",
     "output_type": "stream",
     "text": [
      "The duplicate value is:  2\n"
     ]
    }
   ],
   "source": [
    "l = [1,2,2,3,4,5,6]\n",
    "l_1 = []\n",
    "for i in l:\n",
    "    if i not in l_1:\n",
    "        l_1.append(i)\n",
    "    else:\n",
    "        print(\"The duplicate value is: \", i)"
   ]
  },
  {
   "cell_type": "markdown",
   "metadata": {},
   "source": [
    "Q6. Write a Python script to check if a given key already exists in a\n",
    "dictionary"
   ]
  },
  {
   "cell_type": "code",
   "execution_count": 22,
   "metadata": {},
   "outputs": [
    {
     "name": "stdout",
     "output_type": "stream",
     "text": [
      "The given key  6  Is not present \n"
     ]
    }
   ],
   "source": [
    "even_numbers = {1: 2, 2: 4, 3: 6, 4: 8, 5: 10}\n",
    "e_num = \"6\"\n",
    "if e_num in even_numbers:\n",
    "        print(\"The given key \",e_num, \" Is Present \")\n",
    "else: \n",
    "    print(\"The given key \",e_num, \" Is not present \")"
   ]
  },
  {
   "cell_type": "code",
   "execution_count": null,
   "metadata": {},
   "outputs": [],
   "source": []
  }
 ],
 "metadata": {
  "kernelspec": {
   "display_name": "Python 3",
   "language": "python",
   "name": "python3"
  },
  "language_info": {
   "codemirror_mode": {
    "name": "ipython",
    "version": 3
   },
   "file_extension": ".py",
   "mimetype": "text/x-python",
   "name": "python",
   "nbconvert_exporter": "python",
   "pygments_lexer": "ipython3",
   "version": "3.7.3"
  }
 },
 "nbformat": 4,
 "nbformat_minor": 2
}
